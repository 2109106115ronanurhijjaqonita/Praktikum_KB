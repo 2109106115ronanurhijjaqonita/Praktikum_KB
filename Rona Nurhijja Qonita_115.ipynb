{
 "cells": [
  {
   "cell_type": "markdown",
   "id": "67fb0865-f431-466e-b08e-1505c566ebf4",
   "metadata": {},
   "source": [
    "## POSTTEST 4\n",
    "_______________"
   ]
  },
  {
   "cell_type": "code",
   "execution_count": 103,
   "id": "137581f6-b6a3-44fe-9332-59d9c7575278",
   "metadata": {},
   "outputs": [],
   "source": [
    "import pandas as pd\n",
    "import numpy as np\n",
    "from sklearn.model_selection import train_test_split\n",
    "from sklearn.preprocessing import MinMaxScaler\n",
    "from sklearn.preprocessing import StandardScaler\n",
    "from sklearn.impute import SimpleImputer\n",
    "from sklearn.preprocessing import OneHotEncoder\n",
    "\n",
    "bolaBasket = pd.read_csv('all_seasonss.csv',sep=\";\") #membaca file csv"
   ]
  },
  {
   "cell_type": "markdown",
   "id": "8607ccde-a4a2-4c5b-8d9f-d67955b62c07",
   "metadata": {},
   "source": [
    "## 1. Membagi dataset menjadi training set dan testing set dengan proporsi 70:30\n",
    "____"
   ]
  },
  {
   "cell_type": "code",
   "execution_count": 36,
   "id": "6dece110-0abf-4385-b05c-d1423e1c659c",
   "metadata": {},
   "outputs": [
    {
     "name": "stdout",
     "output_type": "stream",
     "text": [
      "Dimensi X_train :  (8613, 21)\n",
      "Dimensi X_train :  (3692, 21)\n",
      "Dimensi y_train :  (8613,)\n",
      "Dimensi y_test :  (3692,)\n"
     ]
    }
   ],
   "source": [
    "X = bolaBasket.drop('ast', axis=1)\n",
    "y = bolaBasket['pts']\n",
    "\n",
    "# Membagi data menjadi training dan testing set dengan rasio 70:30\n",
    "X_train, X_test, y_train, y_test = train_test_split(X, y, test_size=0.3, random_state=42)\n",
    "print(\"Dimensi X_train : \", X_train.shape)\n",
    "print(\"Dimensi X_train : \", X_test.shape)\n",
    "print(\"Dimensi y_train : \", y_train.shape)\n",
    "print(\"Dimensi y_test : \", y_test.shape)\n",
    "# Sekarang, X_train dan y_train adalah data training, dan X_test serta y_test adalah data testing"
   ]
  },
  {
   "cell_type": "markdown",
   "id": "dc904f63-e168-47c7-9a8c-da0b6ecc53d5",
   "metadata": {},
   "source": [
    "## 2. Lakukan normalisasi data pada salah satu attribute menggunakkan Min Max scaler\n",
    "____"
   ]
  },
  {
   "cell_type": "code",
   "execution_count": 80,
   "id": "34fb749b-7098-4afd-a63d-1fe07e8b35cc",
   "metadata": {},
   "outputs": [
    {
     "name": "stdout",
     "output_type": "stream",
     "text": [
      "   Unnamed: 0        player_name team_abbreviation       age  player_height  \\\n",
      "0           0      Dennis Rodman               CHI  0.692308         198.12   \n",
      "1           1  Dwayne Schintzius               LAC  0.384615         215.90   \n",
      "2           2       Earl Cureton               TOR  0.807692         205.74   \n",
      "3           3        Ed O'Bannon               DAL  0.230769         203.20   \n",
      "4           4        Ed Pinckney               MIA  0.615385         205.74   \n",
      "\n",
      "  player_weight                      college country draft_year draft_round  \\\n",
      "0     9.979.024  Southeastern Oklahoma State     USA       1986           2   \n",
      "1    11.793.392                      Florida     USA       1990           1   \n",
      "2     9.525.432                Detroit Mercy     USA       1979           3   \n",
      "3   100.697.424                         UCLA     USA       1995           1   \n",
      "4    10.886.208                    Villanova     USA       1985           1   \n",
      "\n",
      "   ...  pts   reb  ast  net_rating  oreb_pct  dreb_pct  usg_pct  ts_pct  \\\n",
      "0  ...  5.7  16.1  3.1        16.1     0.186     0.323    0.100   0.479   \n",
      "1  ...  2.3   1.5  0.3        12.3     0.078     0.151    0.175   0.430   \n",
      "2  ...  0.8   1.0  0.4        -2.1     0.105     0.102    0.103   0.376   \n",
      "3  ...  3.7   2.3  0.6        -8.7     0.060     0.149    0.167   0.399   \n",
      "4  ...  2.4   2.4  0.2       -11.2     0.109     0.179    0.127   0.611   \n",
      "\n",
      "   ast_pct   season  \n",
      "0    0.113  1996-97  \n",
      "1    0.048  1996-97  \n",
      "2    0.148  1996-97  \n",
      "3    0.077  1996-97  \n",
      "4    0.040  1996-97  \n",
      "\n",
      "[5 rows x 22 columns]\n"
     ]
    }
   ],
   "source": [
    "atribut_yang_dinormalisasi = 'age'\n",
    "\n",
    "# Inisialisasi MinMaxScaler\n",
    "scaler = MinMaxScaler()\n",
    "\n",
    "# Normalisasi data pada atribut yang dipilih\n",
    "bolaBasket['age'] = scaler.fit_transform(bolaBasket[['age']])\n",
    "\n",
    "print(bolaBasket.head())"
   ]
  },
  {
   "cell_type": "markdown",
   "id": "06da8bef-2b91-4b6c-a81e-3d806eda6cae",
   "metadata": {},
   "source": [
    "## 3. Lakukan Standarisasi pada dataset\n",
    "____"
   ]
  },
  {
   "cell_type": "code",
   "execution_count": 82,
   "id": "0fa41503-b444-4abe-a66b-51c7a3eaff34",
   "metadata": {},
   "outputs": [
    {
     "name": "stdout",
     "output_type": "stream",
     "text": [
      "   Unnamed: 0        player_name team_abbreviation       age  player_height  \\\n",
      "0           0      Dennis Rodman               CHI  0.692308         198.12   \n",
      "1           1  Dwayne Schintzius               LAC  0.384615         215.90   \n",
      "2           2       Earl Cureton               TOR  0.807692         205.74   \n",
      "3           3        Ed O'Bannon               DAL  0.230769         203.20   \n",
      "4           4        Ed Pinckney               MIA  0.615385         205.74   \n",
      "\n",
      "  player_weight                      college country draft_year draft_round  \\\n",
      "0     9.979.024  Southeastern Oklahoma State     USA       1986           2   \n",
      "1    11.793.392                      Florida     USA       1990           1   \n",
      "2     9.525.432                Detroit Mercy     USA       1979           3   \n",
      "3   100.697.424                         UCLA     USA       1995           1   \n",
      "4    10.886.208                    Villanova     USA       1985           1   \n",
      "\n",
      "   ...  pts       reb  ast  net_rating  oreb_pct  dreb_pct  usg_pct  ts_pct  \\\n",
      "0  ...  5.7  5.049770  3.1        16.1     0.186     0.323    0.100   0.479   \n",
      "1  ...  2.3 -0.829151  0.3        12.3     0.078     0.151    0.175   0.430   \n",
      "2  ...  0.8 -1.030484  0.4        -2.1     0.105     0.102    0.103   0.376   \n",
      "3  ...  3.7 -0.507019  0.6        -8.7     0.060     0.149    0.167   0.399   \n",
      "4  ...  2.4 -0.466752  0.2       -11.2     0.109     0.179    0.127   0.611   \n",
      "\n",
      "   ast_pct   season  \n",
      "0    0.113  1996-97  \n",
      "1    0.048  1996-97  \n",
      "2    0.148  1996-97  \n",
      "3    0.077  1996-97  \n",
      "4    0.040  1996-97  \n",
      "\n",
      "[5 rows x 22 columns]\n"
     ]
    }
   ],
   "source": [
    "# Pilih atribut yang akan distandarisasi (gantilah 'atribut_yang_distandarisasi' dengan nama atribut yang sebenarnya)\n",
    "atribut_yang_distandarisasi = 'reb'\n",
    "\n",
    "# Inisialisasi StandardScaler\n",
    "scaler = StandardScaler()\n",
    "\n",
    "# Standarisasi data pada atribut yang dipilih\n",
    "bolaBasket['reb'] = scaler.fit_transform(bolaBasket[['reb']])\n",
    "\n",
    "print(bolaBasket.head())"
   ]
  },
  {
   "cell_type": "markdown",
   "id": "2df8e021-ae66-4fd1-972d-30078b6ccf29",
   "metadata": {},
   "source": [
    "## 4. Lakukan Data Cleaning pada data dengan nilai null\n",
    "____"
   ]
  },
  {
   "cell_type": "code",
   "execution_count": 86,
   "id": "dc244bee-f32d-4003-91f9-4f67883fbbb2",
   "metadata": {},
   "outputs": [
    {
     "name": "stdout",
     "output_type": "stream",
     "text": [
      "Informasi sebelum data cleaning:\n",
      "<class 'pandas.core.frame.DataFrame'>\n",
      "RangeIndex: 12305 entries, 0 to 12304\n",
      "Data columns (total 22 columns):\n",
      " #   Column             Non-Null Count  Dtype  \n",
      "---  ------             --------------  -----  \n",
      " 0   Unnamed: 0         12305 non-null  int64  \n",
      " 1   player_name        12305 non-null  object \n",
      " 2   team_abbreviation  12305 non-null  object \n",
      " 3   age                12305 non-null  float64\n",
      " 4   player_height      12305 non-null  float64\n",
      " 5   player_weight      12305 non-null  object \n",
      " 6   college            10516 non-null  object \n",
      " 7   country            12305 non-null  object \n",
      " 8   draft_year         12305 non-null  object \n",
      " 9   draft_round        12305 non-null  object \n",
      " 10  draft_number       12305 non-null  object \n",
      " 11  gp                 12305 non-null  int64  \n",
      " 12  pts                12305 non-null  float64\n",
      " 13  reb                12305 non-null  float64\n",
      " 14  ast                12305 non-null  float64\n",
      " 15  net_rating         12305 non-null  float64\n",
      " 16  oreb_pct           12305 non-null  float64\n",
      " 17  dreb_pct           12305 non-null  float64\n",
      " 18  usg_pct            12305 non-null  float64\n",
      " 19  ts_pct             12305 non-null  float64\n",
      " 20  ast_pct            12305 non-null  float64\n",
      " 21  season             12305 non-null  object \n",
      "dtypes: float64(11), int64(2), object(9)\n",
      "memory usage: 2.1+ MB\n",
      "None\n",
      "\n",
      "Informasi setelah data cleaning:\n",
      "<class 'pandas.core.frame.DataFrame'>\n",
      "Index: 10516 entries, 0 to 12304\n",
      "Data columns (total 22 columns):\n",
      " #   Column             Non-Null Count  Dtype  \n",
      "---  ------             --------------  -----  \n",
      " 0   Unnamed: 0         10516 non-null  int64  \n",
      " 1   player_name        10516 non-null  object \n",
      " 2   team_abbreviation  10516 non-null  object \n",
      " 3   age                10516 non-null  float64\n",
      " 4   player_height      10516 non-null  float64\n",
      " 5   player_weight      10516 non-null  object \n",
      " 6   college            10516 non-null  object \n",
      " 7   country            10516 non-null  object \n",
      " 8   draft_year         10516 non-null  object \n",
      " 9   draft_round        10516 non-null  object \n",
      " 10  draft_number       10516 non-null  object \n",
      " 11  gp                 10516 non-null  int64  \n",
      " 12  pts                10516 non-null  float64\n",
      " 13  reb                10516 non-null  float64\n",
      " 14  ast                10516 non-null  float64\n",
      " 15  net_rating         10516 non-null  float64\n",
      " 16  oreb_pct           10516 non-null  float64\n",
      " 17  dreb_pct           10516 non-null  float64\n",
      " 18  usg_pct            10516 non-null  float64\n",
      " 19  ts_pct             10516 non-null  float64\n",
      " 20  ast_pct            10516 non-null  float64\n",
      " 21  season             10516 non-null  object \n",
      "dtypes: float64(11), int64(2), object(9)\n",
      "memory usage: 1.8+ MB\n",
      "None\n"
     ]
    }
   ],
   "source": [
    "# Mencetak informasi sebelum data cleaning\n",
    "print(\"Informasi sebelum data cleaning:\")\n",
    "print(bolaBasket.info())\n",
    "\n",
    "# Menghapus baris dengan nilai null\n",
    "bolaBasket_cleaned = bolaBasket.dropna()\n",
    "\n",
    "# Mencetak informasi setelah data cleaning\n",
    "print(\"\\nInformasi setelah data cleaning:\")\n",
    "print(bolaBasket_cleaned.info())"
   ]
  },
  {
   "cell_type": "markdown",
   "id": "dbf171ec-9b6a-4c0d-ad6d-726c1ed255ac",
   "metadata": {},
   "source": [
    "## 5. Lakukan Data Cleaning pada data dengan nilai duplikat\n",
    "____"
   ]
  },
  {
   "cell_type": "code",
   "execution_count": 87,
   "id": "962bb971-bc36-461e-a285-7ea545b0c2a5",
   "metadata": {},
   "outputs": [
    {
     "name": "stdout",
     "output_type": "stream",
     "text": [
      "Jumlah baris sebelum menghapus duplikat: 12305\n",
      "Jumlah baris setelah menghapus duplikat: 12305\n"
     ]
    }
   ],
   "source": [
    "# Mencetak informasi sebelum data cleaning\n",
    "print(\"Jumlah baris sebelum menghapus duplikat:\", len(bolaBasket))\n",
    "\n",
    "# Menghapus baris dengan nilai duplikat\n",
    "bolaBasket_cleaned = bolaBasket.drop_duplicates()\n",
    "\n",
    "# Mencetak informasi setelah data cleaning\n",
    "print(\"Jumlah baris setelah menghapus duplikat:\", len(bolaBasket_cleaned))"
   ]
  },
  {
   "cell_type": "markdown",
   "id": "f023ee1f-92dd-43c9-97ce-92b41c278fdc",
   "metadata": {},
   "source": [
    "## 6. Ganti tipe data salah satu attribute angka\n",
    "____"
   ]
  },
  {
   "cell_type": "code",
   "execution_count": 100,
   "id": "57331eec-13ec-45a7-a992-5dba3869d0c3",
   "metadata": {},
   "outputs": [
    {
     "name": "stdout",
     "output_type": "stream",
     "text": [
      "   Unnamed: 0        player_name team_abbreviation   age  player_height  \\\n",
      "0           0      Dennis Rodman               CHI  36.0         198.12   \n",
      "1           1  Dwayne Schintzius               LAC  28.0         215.90   \n",
      "2           2       Earl Cureton               TOR  39.0         205.74   \n",
      "3           3        Ed O'Bannon               DAL  24.0         203.20   \n",
      "4           4        Ed Pinckney               MIA  34.0         205.74   \n",
      "\n",
      "  player_weight                      college country draft_year draft_round  \\\n",
      "0     9.979.024  Southeastern Oklahoma State     USA       1986           2   \n",
      "1    11.793.392                      Florida     USA       1990           1   \n",
      "2     9.525.432                Detroit Mercy     USA       1979           3   \n",
      "3   100.697.424                         UCLA     USA       1995           1   \n",
      "4    10.886.208                    Villanova     USA       1985           1   \n",
      "\n",
      "   ...  pts   reb  ast  net_rating  oreb_pct  dreb_pct  usg_pct  ts_pct  \\\n",
      "0  ...  5.7  16.1  3.1        16.1     0.186     0.323    0.100   0.479   \n",
      "1  ...  2.3   1.5  0.3        12.3     0.078     0.151    0.175   0.430   \n",
      "2  ...  0.8   1.0  0.4        -2.1     0.105     0.102    0.103   0.376   \n",
      "3  ...  3.7   2.3  0.6        -8.7     0.060     0.149    0.167   0.399   \n",
      "4  ...  2.4   2.4  0.2       -11.2     0.109     0.179    0.127   0.611   \n",
      "\n",
      "   ast_pct   season  \n",
      "0    0.113  1996-97  \n",
      "1    0.048  1996-97  \n",
      "2    0.148  1996-97  \n",
      "3    0.077  1996-97  \n",
      "4    0.040  1996-97  \n",
      "\n",
      "[5 rows x 22 columns]\n"
     ]
    }
   ],
   "source": [
    "atribut_yang_diubah_tipe = 'net_rating'\n",
    "\n",
    "# Mengganti tipe data atribut menjadi float\n",
    "bolaBasket['net_rating'] = bolaBasket['net_rating'].astype(float)\n",
    "\n",
    "print(bolaBasket.head())"
   ]
  },
  {
   "cell_type": "markdown",
   "id": "854de175-502d-4b12-b285-4a3beb59c8cc",
   "metadata": {},
   "source": [
    "## 7. Lakukan One Hot Encoding pada dataset yang kalian miliki\n",
    "_____"
   ]
  },
  {
   "cell_type": "code",
   "execution_count": 101,
   "id": "5d0add3c-4d26-4dab-91fd-7982a4cfcc46",
   "metadata": {},
   "outputs": [
    {
     "name": "stdout",
     "output_type": "stream",
     "text": [
      "   Unnamed: 0        player_name team_abbreviation   age  player_height  \\\n",
      "0           0      Dennis Rodman               CHI  36.0         198.12   \n",
      "1           1  Dwayne Schintzius               LAC  28.0         215.90   \n",
      "2           2       Earl Cureton               TOR  39.0         205.74   \n",
      "3           3        Ed O'Bannon               DAL  24.0         203.20   \n",
      "4           4        Ed Pinckney               MIA  34.0         205.74   \n",
      "\n",
      "  player_weight                      college country draft_year draft_round  \\\n",
      "0     9.979.024  Southeastern Oklahoma State     USA       1986           2   \n",
      "1    11.793.392                      Florida     USA       1990           1   \n",
      "2     9.525.432                Detroit Mercy     USA       1979           3   \n",
      "3   100.697.424                         UCLA     USA       1995           1   \n",
      "4    10.886.208                    Villanova     USA       1985           1   \n",
      "\n",
      "   ...  pts   reb  ast  net_rating  oreb_pct  dreb_pct  usg_pct  ts_pct  \\\n",
      "0  ...  5.7  16.1  3.1        16.1     0.186     0.323    0.100   0.479   \n",
      "1  ...  2.3   1.5  0.3        12.3     0.078     0.151    0.175   0.430   \n",
      "2  ...  0.8   1.0  0.4        -2.1     0.105     0.102    0.103   0.376   \n",
      "3  ...  3.7   2.3  0.6        -8.7     0.060     0.149    0.167   0.399   \n",
      "4  ...  2.4   2.4  0.2       -11.2     0.109     0.179    0.127   0.611   \n",
      "\n",
      "   ast_pct   season  \n",
      "0    0.113  1996-97  \n",
      "1    0.048  1996-97  \n",
      "2    0.148  1996-97  \n",
      "3    0.077  1996-97  \n",
      "4    0.040  1996-97  \n",
      "\n",
      "[5 rows x 22 columns]\n"
     ]
    }
   ],
   "source": [
    "# Pilih kolom yang perlu di-encode (gantilah 'kolom_yang_diencode' dengan nama kolom yang sebenarnya)\n",
    "kolom_yang_diencode = 'season'\n",
    "\n",
    "# Lakukan One Hot Encoding\n",
    "bolaBasket_encoded = pd.get_dummies(bolaBasket, columns=['season'])\n",
    "\n",
    "print(bolaBasket.head())"
   ]
  },
  {
   "cell_type": "code",
   "execution_count": null,
   "id": "d60893c1-495e-432b-bbd0-afb247effdbe",
   "metadata": {},
   "outputs": [],
   "source": []
  }
 ],
 "metadata": {
  "kernelspec": {
   "display_name": "Python 3 (ipykernel)",
   "language": "python",
   "name": "python3"
  },
  "language_info": {
   "codemirror_mode": {
    "name": "ipython",
    "version": 3
   },
   "file_extension": ".py",
   "mimetype": "text/x-python",
   "name": "python",
   "nbconvert_exporter": "python",
   "pygments_lexer": "ipython3",
   "version": "3.11.5"
  }
 },
 "nbformat": 4,
 "nbformat_minor": 5
}
