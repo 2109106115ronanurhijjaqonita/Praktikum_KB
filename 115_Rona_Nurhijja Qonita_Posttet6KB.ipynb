{
 "cells": [
  {
   "cell_type": "code",
   "execution_count": 6,
   "id": "f269c481-b1f1-44c3-8e69-bff14734cbbe",
   "metadata": {},
   "outputs": [],
   "source": [
    "from sklearn.model_selection import train_test_split\n",
    "from sklearn.preprocessing import MinMaxScaler, OrdinalEncoder, LabelEncoder\n",
    "from sklearn.svm import SVC\n",
    "import tensorflow as tf\n",
    "from tensorflow.keras import Sequential, layers, optimizers, datasets\n",
    "from sklearn.preprocessing import StandardScaler\n",
    "from sklearn.preprocessing import MinMaxScaler\n",
    "import matplotlib.pyplot as plt\n",
    "import numpy as np\n",
    "import pandas as pd"
   ]
  },
  {
   "cell_type": "code",
   "execution_count": 7,
   "id": "a204a995-4d70-4427-bfef-6f7921a0f2ab",
   "metadata": {},
   "outputs": [
    {
     "data": {
      "text/html": [
       "<div>\n",
       "<style scoped>\n",
       "    .dataframe tbody tr th:only-of-type {\n",
       "        vertical-align: middle;\n",
       "    }\n",
       "\n",
       "    .dataframe tbody tr th {\n",
       "        vertical-align: top;\n",
       "    }\n",
       "\n",
       "    .dataframe thead th {\n",
       "        text-align: right;\n",
       "    }\n",
       "</style>\n",
       "<table border=\"1\" class=\"dataframe\">\n",
       "  <thead>\n",
       "    <tr style=\"text-align: right;\">\n",
       "      <th></th>\n",
       "      <th>Unnamed: 0</th>\n",
       "      <th>player_name</th>\n",
       "      <th>team_abbreviation</th>\n",
       "      <th>age</th>\n",
       "      <th>player_height</th>\n",
       "      <th>player_weight</th>\n",
       "      <th>college</th>\n",
       "      <th>country</th>\n",
       "      <th>draft_year</th>\n",
       "      <th>draft_round</th>\n",
       "      <th>...</th>\n",
       "      <th>pts</th>\n",
       "      <th>reb</th>\n",
       "      <th>ast</th>\n",
       "      <th>net_rating</th>\n",
       "      <th>oreb_pct</th>\n",
       "      <th>dreb_pct</th>\n",
       "      <th>usg_pct</th>\n",
       "      <th>ts_pct</th>\n",
       "      <th>ast_pct</th>\n",
       "      <th>season</th>\n",
       "    </tr>\n",
       "  </thead>\n",
       "  <tbody>\n",
       "    <tr>\n",
       "      <th>0</th>\n",
       "      <td>0</td>\n",
       "      <td>Dennis Rodman</td>\n",
       "      <td>CHI</td>\n",
       "      <td>36.0</td>\n",
       "      <td>198.12</td>\n",
       "      <td>9.979.024</td>\n",
       "      <td>Southeastern Oklahoma State</td>\n",
       "      <td>USA</td>\n",
       "      <td>1986</td>\n",
       "      <td>2</td>\n",
       "      <td>...</td>\n",
       "      <td>5.7</td>\n",
       "      <td>16.1</td>\n",
       "      <td>3.1</td>\n",
       "      <td>16.1</td>\n",
       "      <td>0.186</td>\n",
       "      <td>0.323</td>\n",
       "      <td>0.100</td>\n",
       "      <td>0.479</td>\n",
       "      <td>0.113</td>\n",
       "      <td>1996-97</td>\n",
       "    </tr>\n",
       "    <tr>\n",
       "      <th>1</th>\n",
       "      <td>1</td>\n",
       "      <td>Dwayne Schintzius</td>\n",
       "      <td>LAC</td>\n",
       "      <td>28.0</td>\n",
       "      <td>215.90</td>\n",
       "      <td>11.793.392</td>\n",
       "      <td>Florida</td>\n",
       "      <td>USA</td>\n",
       "      <td>1990</td>\n",
       "      <td>1</td>\n",
       "      <td>...</td>\n",
       "      <td>2.3</td>\n",
       "      <td>1.5</td>\n",
       "      <td>0.3</td>\n",
       "      <td>12.3</td>\n",
       "      <td>0.078</td>\n",
       "      <td>0.151</td>\n",
       "      <td>0.175</td>\n",
       "      <td>0.430</td>\n",
       "      <td>0.048</td>\n",
       "      <td>1996-97</td>\n",
       "    </tr>\n",
       "    <tr>\n",
       "      <th>2</th>\n",
       "      <td>2</td>\n",
       "      <td>Earl Cureton</td>\n",
       "      <td>TOR</td>\n",
       "      <td>39.0</td>\n",
       "      <td>205.74</td>\n",
       "      <td>9.525.432</td>\n",
       "      <td>Detroit Mercy</td>\n",
       "      <td>USA</td>\n",
       "      <td>1979</td>\n",
       "      <td>3</td>\n",
       "      <td>...</td>\n",
       "      <td>0.8</td>\n",
       "      <td>1.0</td>\n",
       "      <td>0.4</td>\n",
       "      <td>-2.1</td>\n",
       "      <td>0.105</td>\n",
       "      <td>0.102</td>\n",
       "      <td>0.103</td>\n",
       "      <td>0.376</td>\n",
       "      <td>0.148</td>\n",
       "      <td>1996-97</td>\n",
       "    </tr>\n",
       "    <tr>\n",
       "      <th>3</th>\n",
       "      <td>3</td>\n",
       "      <td>Ed O'Bannon</td>\n",
       "      <td>DAL</td>\n",
       "      <td>24.0</td>\n",
       "      <td>203.20</td>\n",
       "      <td>100.697.424</td>\n",
       "      <td>UCLA</td>\n",
       "      <td>USA</td>\n",
       "      <td>1995</td>\n",
       "      <td>1</td>\n",
       "      <td>...</td>\n",
       "      <td>3.7</td>\n",
       "      <td>2.3</td>\n",
       "      <td>0.6</td>\n",
       "      <td>-8.7</td>\n",
       "      <td>0.060</td>\n",
       "      <td>0.149</td>\n",
       "      <td>0.167</td>\n",
       "      <td>0.399</td>\n",
       "      <td>0.077</td>\n",
       "      <td>1996-97</td>\n",
       "    </tr>\n",
       "    <tr>\n",
       "      <th>4</th>\n",
       "      <td>4</td>\n",
       "      <td>Ed Pinckney</td>\n",
       "      <td>MIA</td>\n",
       "      <td>34.0</td>\n",
       "      <td>205.74</td>\n",
       "      <td>10.886.208</td>\n",
       "      <td>Villanova</td>\n",
       "      <td>USA</td>\n",
       "      <td>1985</td>\n",
       "      <td>1</td>\n",
       "      <td>...</td>\n",
       "      <td>2.4</td>\n",
       "      <td>2.4</td>\n",
       "      <td>0.2</td>\n",
       "      <td>-11.2</td>\n",
       "      <td>0.109</td>\n",
       "      <td>0.179</td>\n",
       "      <td>0.127</td>\n",
       "      <td>0.611</td>\n",
       "      <td>0.040</td>\n",
       "      <td>1996-97</td>\n",
       "    </tr>\n",
       "    <tr>\n",
       "      <th>...</th>\n",
       "      <td>...</td>\n",
       "      <td>...</td>\n",
       "      <td>...</td>\n",
       "      <td>...</td>\n",
       "      <td>...</td>\n",
       "      <td>...</td>\n",
       "      <td>...</td>\n",
       "      <td>...</td>\n",
       "      <td>...</td>\n",
       "      <td>...</td>\n",
       "      <td>...</td>\n",
       "      <td>...</td>\n",
       "      <td>...</td>\n",
       "      <td>...</td>\n",
       "      <td>...</td>\n",
       "      <td>...</td>\n",
       "      <td>...</td>\n",
       "      <td>...</td>\n",
       "      <td>...</td>\n",
       "      <td>...</td>\n",
       "      <td>...</td>\n",
       "    </tr>\n",
       "    <tr>\n",
       "      <th>6895</th>\n",
       "      <td>6895</td>\n",
       "      <td>Robin Lopez</td>\n",
       "      <td>PHX</td>\n",
       "      <td>24.0</td>\n",
       "      <td>213.36</td>\n",
       "      <td>11.566.596.000.000.000</td>\n",
       "      <td>Stanford</td>\n",
       "      <td>USA</td>\n",
       "      <td>2008</td>\n",
       "      <td>1</td>\n",
       "      <td>...</td>\n",
       "      <td>5.4</td>\n",
       "      <td>3.3</td>\n",
       "      <td>0.3</td>\n",
       "      <td>-3.5</td>\n",
       "      <td>0.110</td>\n",
       "      <td>0.152</td>\n",
       "      <td>0.190</td>\n",
       "      <td>0.526</td>\n",
       "      <td>0.039</td>\n",
       "      <td>2011-12</td>\n",
       "    </tr>\n",
       "    <tr>\n",
       "      <th>6896</th>\n",
       "      <td>6896</td>\n",
       "      <td>Rajon Rondo</td>\n",
       "      <td>BOS</td>\n",
       "      <td>26.0</td>\n",
       "      <td>185.42</td>\n",
       "      <td>84.368.112</td>\n",
       "      <td>Kentucky</td>\n",
       "      <td>USA</td>\n",
       "      <td>2006</td>\n",
       "      <td>1</td>\n",
       "      <td>...</td>\n",
       "      <td>11.9</td>\n",
       "      <td>4.8</td>\n",
       "      <td>11.7</td>\n",
       "      <td>5.2</td>\n",
       "      <td>0.039</td>\n",
       "      <td>0.111</td>\n",
       "      <td>0.203</td>\n",
       "      <td>0.483</td>\n",
       "      <td>0.498</td>\n",
       "      <td>2011-12</td>\n",
       "    </tr>\n",
       "    <tr>\n",
       "      <th>6897</th>\n",
       "      <td>6897</td>\n",
       "      <td>Rodney Stuckey</td>\n",
       "      <td>DET</td>\n",
       "      <td>26.0</td>\n",
       "      <td>195.58</td>\n",
       "      <td>9.298.635.999.999.990</td>\n",
       "      <td>Eastern Washington</td>\n",
       "      <td>USA</td>\n",
       "      <td>2007</td>\n",
       "      <td>1</td>\n",
       "      <td>...</td>\n",
       "      <td>14.8</td>\n",
       "      <td>2.6</td>\n",
       "      <td>3.8</td>\n",
       "      <td>-2.6</td>\n",
       "      <td>0.028</td>\n",
       "      <td>0.077</td>\n",
       "      <td>0.238</td>\n",
       "      <td>0.550</td>\n",
       "      <td>0.219</td>\n",
       "      <td>2011-12</td>\n",
       "    </tr>\n",
       "    <tr>\n",
       "      <th>6898</th>\n",
       "      <td>6898</td>\n",
       "      <td>Roger Mason Jr.</td>\n",
       "      <td>WAS</td>\n",
       "      <td>31.0</td>\n",
       "      <td>195.58</td>\n",
       "      <td>9.298.635.999.999.990</td>\n",
       "      <td>Virginia</td>\n",
       "      <td>USA</td>\n",
       "      <td>2002</td>\n",
       "      <td>2</td>\n",
       "      <td>...</td>\n",
       "      <td>5.5</td>\n",
       "      <td>1.3</td>\n",
       "      <td>0.9</td>\n",
       "      <td>-2.4</td>\n",
       "      <td>0.012</td>\n",
       "      <td>0.104</td>\n",
       "      <td>0.199</td>\n",
       "      <td>0.530</td>\n",
       "      <td>0.114</td>\n",
       "      <td>2011-12</td>\n",
       "    </tr>\n",
       "    <tr>\n",
       "      <th>6899</th>\n",
       "      <td>6899</td>\n",
       "      <td>Ronnie Brewer</td>\n",
       "      <td>C</td>\n",
       "      <td>NaN</td>\n",
       "      <td>NaN</td>\n",
       "      <td>NaN</td>\n",
       "      <td>NaN</td>\n",
       "      <td>NaN</td>\n",
       "      <td>NaN</td>\n",
       "      <td>NaN</td>\n",
       "      <td>...</td>\n",
       "      <td>NaN</td>\n",
       "      <td>NaN</td>\n",
       "      <td>NaN</td>\n",
       "      <td>NaN</td>\n",
       "      <td>NaN</td>\n",
       "      <td>NaN</td>\n",
       "      <td>NaN</td>\n",
       "      <td>NaN</td>\n",
       "      <td>NaN</td>\n",
       "      <td>NaN</td>\n",
       "    </tr>\n",
       "  </tbody>\n",
       "</table>\n",
       "<p>6900 rows × 22 columns</p>\n",
       "</div>"
      ],
      "text/plain": [
       "      Unnamed: 0        player_name team_abbreviation   age  player_height  \\\n",
       "0              0      Dennis Rodman               CHI  36.0         198.12   \n",
       "1              1  Dwayne Schintzius               LAC  28.0         215.90   \n",
       "2              2       Earl Cureton               TOR  39.0         205.74   \n",
       "3              3        Ed O'Bannon               DAL  24.0         203.20   \n",
       "4              4        Ed Pinckney               MIA  34.0         205.74   \n",
       "...          ...                ...               ...   ...            ...   \n",
       "6895        6895        Robin Lopez               PHX  24.0         213.36   \n",
       "6896        6896        Rajon Rondo               BOS  26.0         185.42   \n",
       "6897        6897     Rodney Stuckey               DET  26.0         195.58   \n",
       "6898        6898    Roger Mason Jr.               WAS  31.0         195.58   \n",
       "6899        6899      Ronnie Brewer                 C   NaN            NaN   \n",
       "\n",
       "               player_weight                      college country draft_year  \\\n",
       "0                  9.979.024  Southeastern Oklahoma State     USA       1986   \n",
       "1                 11.793.392                      Florida     USA       1990   \n",
       "2                  9.525.432                Detroit Mercy     USA       1979   \n",
       "3                100.697.424                         UCLA     USA       1995   \n",
       "4                 10.886.208                    Villanova     USA       1985   \n",
       "...                      ...                          ...     ...        ...   \n",
       "6895  11.566.596.000.000.000                     Stanford     USA       2008   \n",
       "6896              84.368.112                     Kentucky     USA       2006   \n",
       "6897   9.298.635.999.999.990           Eastern Washington     USA       2007   \n",
       "6898   9.298.635.999.999.990                     Virginia     USA       2002   \n",
       "6899                     NaN                          NaN     NaN        NaN   \n",
       "\n",
       "     draft_round  ...   pts   reb   ast  net_rating  oreb_pct  dreb_pct  \\\n",
       "0              2  ...   5.7  16.1   3.1        16.1     0.186     0.323   \n",
       "1              1  ...   2.3   1.5   0.3        12.3     0.078     0.151   \n",
       "2              3  ...   0.8   1.0   0.4        -2.1     0.105     0.102   \n",
       "3              1  ...   3.7   2.3   0.6        -8.7     0.060     0.149   \n",
       "4              1  ...   2.4   2.4   0.2       -11.2     0.109     0.179   \n",
       "...          ...  ...   ...   ...   ...         ...       ...       ...   \n",
       "6895           1  ...   5.4   3.3   0.3        -3.5     0.110     0.152   \n",
       "6896           1  ...  11.9   4.8  11.7         5.2     0.039     0.111   \n",
       "6897           1  ...  14.8   2.6   3.8        -2.6     0.028     0.077   \n",
       "6898           2  ...   5.5   1.3   0.9        -2.4     0.012     0.104   \n",
       "6899         NaN  ...   NaN   NaN   NaN         NaN       NaN       NaN   \n",
       "\n",
       "      usg_pct  ts_pct  ast_pct   season  \n",
       "0       0.100   0.479    0.113  1996-97  \n",
       "1       0.175   0.430    0.048  1996-97  \n",
       "2       0.103   0.376    0.148  1996-97  \n",
       "3       0.167   0.399    0.077  1996-97  \n",
       "4       0.127   0.611    0.040  1996-97  \n",
       "...       ...     ...      ...      ...  \n",
       "6895    0.190   0.526    0.039  2011-12  \n",
       "6896    0.203   0.483    0.498  2011-12  \n",
       "6897    0.238   0.550    0.219  2011-12  \n",
       "6898    0.199   0.530    0.114  2011-12  \n",
       "6899      NaN     NaN      NaN      NaN  \n",
       "\n",
       "[6900 rows x 22 columns]"
      ]
     },
     "execution_count": 7,
     "metadata": {},
     "output_type": "execute_result"
    }
   ],
   "source": [
    "bolaBasket = pd.read_csv('all_seasons.csv', sep=\";\")\n",
    "bolaBasket"
   ]
  },
  {
   "cell_type": "markdown",
   "id": "bd0f90a1-6e24-4116-aca7-b31e0623f026",
   "metadata": {},
   "source": [
    "## Split dataset menjadi train dan test"
   ]
  },
  {
   "cell_type": "code",
   "execution_count": 8,
   "id": "8e261745-8cc7-4e1d-bad9-ce3ecea28deb",
   "metadata": {},
   "outputs": [
    {
     "name": "stdout",
     "output_type": "stream",
     "text": [
      "Ukuran X_train: (5520, 21)\n",
      "Ukuran X_test: (1380, 21)\n",
      "Ukuran y_train: (5520,)\n",
      "Ukuran y_test: (1380,)\n"
     ]
    }
   ],
   "source": [
    "# Memisahkan dataset menjadi fitur (X) dan target (y)\n",
    "X = bolaBasket.drop(columns='pts')  # Ganti 'target_column' dengan nama kolom target yang sesuai\n",
    "y = bolaBasket['gp']\n",
    "\n",
    "# Memisahkan dataset menjadi data pelatihan dan data pengujian\n",
    "X_train, X_test, y_train, y_test = train_test_split(X, y, test_size=0.2, random_state=42)\n",
    "\n",
    "# Menampilkan ukuran dataset hasil pemisahan\n",
    "print(\"Ukuran X_train:\", X_train.shape)\n",
    "print(\"Ukuran X_test:\", X_test.shape)\n",
    "print(\"Ukuran y_train:\", y_train.shape)\n",
    "print(\"Ukuran y_test:\", y_test.shape)"
   ]
  },
  {
   "cell_type": "markdown",
   "id": "723be58e-35db-4342-8479-b60e428f3e1f",
   "metadata": {},
   "source": [
    "## Normalisasikan"
   ]
  },
  {
   "cell_type": "code",
   "execution_count": 10,
   "id": "64af96b6-394c-4319-9d51-9eb404afd59d",
   "metadata": {},
   "outputs": [],
   "source": [
    "dataset =  bolaBasket.copy()\n",
    "Scaler = MinMaxScaler()\n",
    "Normalized_Data = Scaler.fit_transform(dataset[['age']])\n",
    "dataset['age'] = Normalized_Data"
   ]
  },
  {
   "cell_type": "code",
   "execution_count": 12,
   "id": "324e198e-d233-428f-a678-aff3bfe66930",
   "metadata": {},
   "outputs": [
    {
     "name": "stdout",
     "output_type": "stream",
     "text": [
      "sebelum dinormalisasi: \n",
      "count    6899.000000\n",
      "mean       27.466879\n",
      "std         4.362808\n",
      "min        18.000000\n",
      "25%        24.000000\n",
      "50%        27.000000\n",
      "75%        31.000000\n",
      "max        44.000000\n",
      "Name: age, dtype: float64\n",
      "\n",
      "\n",
      "setelah dinormalisasi: \n",
      "count    6899.000000\n",
      "mean        0.364111\n",
      "std         0.167800\n",
      "min         0.000000\n",
      "25%         0.230769\n",
      "50%         0.346154\n",
      "75%         0.500000\n",
      "max         1.000000\n",
      "Name: age, dtype: float64\n"
     ]
    }
   ],
   "source": [
    "print(\"sebelum dinormalisasi: \")\n",
    "print(bolaBasket['age'].describe())\n",
    "print('\\n')\n",
    "print(\"setelah dinormalisasi: \")\n",
    "print(dataset['age'].describe())"
   ]
  },
  {
   "cell_type": "markdown",
   "id": "ee954d0d-d451-48f5-a434-f161835583c3",
   "metadata": {},
   "source": [
    "## Standarisasi"
   ]
  },
  {
   "cell_type": "code",
   "execution_count": 13,
   "id": "f49dfc03-0714-4632-9418-6fa3a5dc34e7",
   "metadata": {},
   "outputs": [],
   "source": [
    "dataset1 =  bolaBasket.copy()\n",
    "Scaler = StandardScaler()\n",
    "Scaled_Data = Scaler.fit_transform(dataset[['age']])\n",
    "dataset['age'] = Scaled_Data"
   ]
  },
  {
   "cell_type": "code",
   "execution_count": 15,
   "id": "61396f99-c0d4-4277-b440-635b613a86a4",
   "metadata": {},
   "outputs": [
    {
     "name": "stdout",
     "output_type": "stream",
     "text": [
      "sebelum dinormalisasi : \n",
      "Nilai Standar deviasi >>  4.362491862800016\n",
      "\n",
      "\n",
      "setelah distandarisasi : \n",
      "Nilai Standar deviasi >>  4.362491862800016\n"
     ]
    }
   ],
   "source": [
    "print(\"sebelum dinormalisasi : \")\n",
    "print(\"Nilai Standar deviasi >> \", np.std(bolaBasket['age']))\n",
    "print('\\n')\n",
    "print(\"setelah distandarisasi : \")\n",
    "print(\"Nilai Standar deviasi >> \", np.std(dataset1['age']))"
   ]
  },
  {
   "cell_type": "markdown",
   "id": "80cd3269-567e-44fe-b339-02b88d6c4c62",
   "metadata": {},
   "source": [
    "## cleaning"
   ]
  },
  {
   "cell_type": "code",
   "execution_count": 20,
   "id": "b8f5ff7e-d093-408e-8f05-8a1d15afddb7",
   "metadata": {},
   "outputs": [
    {
     "name": "stdout",
     "output_type": "stream",
     "text": [
      "Jumlah Nilai Null pada kolom  Year sebelum >> 6700\n",
      "\n",
      "Jumlah Nilai Null pada kolom  Year Setelah >> 0\n"
     ]
    }
   ],
   "source": [
    "bolaBasket.loc[200:, 'age'] = np.nan\n",
    "\n",
    "print(\"Jumlah Nilai Null pada kolom  Year sebelum >>\", bolaBasket['age'].isna().sum())\n",
    "\n",
    "bolaBasket['age'].fillna(bolaBasket['age'].median(), inplace=True)\n",
    "\n",
    "print(\"\\nJumlah Nilai Null pada kolom  Year Setelah >>\", bolaBasket['age'].isna().sum())"
   ]
  },
  {
   "cell_type": "code",
   "execution_count": 21,
   "id": "68b1820e-e2e4-4eb7-be86-7d6f95234252",
   "metadata": {},
   "outputs": [
    {
     "name": "stdout",
     "output_type": "stream",
     "text": [
      "Jumlah Nilai Null pada kolom  Year sebelum >> 6900\n",
      "\n",
      "Jumlah Nilai Null pada kolom  Year setelah >> 6900\n"
     ]
    }
   ],
   "source": [
    "bolaBasket.loc[200:, 'Year'] = np.nan\n",
    "\n",
    "print(\"Jumlah Nilai Null pada kolom  Year sebelum >>\", bolaBasket['Year'].isna().sum())\n",
    "\n",
    "bolaBasket['Year'].fillna(bolaBasket['Year'].mean(), inplace=True)\n",
    "\n",
    "print(\"\\nJumlah Nilai Null pada kolom  Year setelah >>\", bolaBasket['Year'].isna().sum())"
   ]
  },
  {
   "cell_type": "markdown",
   "id": "99ddd2ca-9610-48cb-b3e3-acd72873c4bf",
   "metadata": {},
   "source": [
    "## Data cleaning dengan nilai duplikat"
   ]
  },
  {
   "cell_type": "code",
   "execution_count": 22,
   "id": "e1673785-4a20-403b-a7a0-3261625454f1",
   "metadata": {},
   "outputs": [
    {
     "data": {
      "text/plain": [
       "4"
      ]
     },
     "execution_count": 22,
     "metadata": {},
     "output_type": "execute_result"
    }
   ],
   "source": [
    "bolaBasket.iloc[100, :] = bolaBasket.iloc[101, :]\n",
    "bolaBasket.iloc[200, :] = bolaBasket.iloc[201, :]\n",
    "bolaBasket.iloc[300, :] = bolaBasket.iloc[301, :]\n",
    "bolaBasket.iloc[400, :] = bolaBasket.iloc[401, :]\n",
    "bolaBasket.duplicated().sum()"
   ]
  },
  {
   "cell_type": "code",
   "execution_count": 23,
   "id": "27444e25-876d-471e-b501-6db19ddb330e",
   "metadata": {},
   "outputs": [
    {
     "data": {
      "text/plain": [
       "0"
      ]
     },
     "execution_count": 23,
     "metadata": {},
     "output_type": "execute_result"
    }
   ],
   "source": [
    "bolaBasket.drop_duplicates(inplace=True)\n",
    "bolaBasket.duplicated().sum()"
   ]
  },
  {
   "cell_type": "markdown",
   "id": "671ede4b-19ab-45d2-8934-3cfd6935155c",
   "metadata": {},
   "source": [
    "## Encoding"
   ]
  },
  {
   "cell_type": "code",
   "execution_count": 24,
   "id": "7c70a527-0f8e-4030-8f1d-4494b747caa4",
   "metadata": {},
   "outputs": [
    {
     "name": "stdout",
     "output_type": "stream",
     "text": [
      "Tipe data kolom 'age' sebelum dirubah =>  float64\n"
     ]
    }
   ],
   "source": [
    "print(\"Tipe data kolom 'age' sebelum dirubah => \", bolaBasket['age'].dtypes )"
   ]
  },
  {
   "cell_type": "code",
   "execution_count": 25,
   "id": "7b6e767b-9f8d-4ae4-a7ea-2e598bd4948c",
   "metadata": {},
   "outputs": [
    {
     "name": "stdout",
     "output_type": "stream",
     "text": [
      "Tipe data kolom 'age' setelah dirubah =>  int64\n"
     ]
    }
   ],
   "source": [
    "bolaBasket['age'] = bolaBasket['age'].astype('int64')\n",
    "print(\"Tipe data kolom 'age' setelah dirubah => \", bolaBasket['age'].dtypes )"
   ]
  },
  {
   "cell_type": "code",
   "execution_count": 26,
   "id": "0b8ad220-dc0b-4512-971f-78e731e800ec",
   "metadata": {},
   "outputs": [
    {
     "name": "stdout",
     "output_type": "stream",
     "text": [
      "<class 'pandas.core.frame.DataFrame'>\n",
      "Int64Index: 6896 entries, 0 to 6899\n",
      "Data columns (total 23 columns):\n",
      " #   Column             Non-Null Count  Dtype  \n",
      "---  ------             --------------  -----  \n",
      " 0   Unnamed: 0         6896 non-null   int64  \n",
      " 1   player_name        6896 non-null   object \n",
      " 2   team_abbreviation  6896 non-null   object \n",
      " 3   age                6896 non-null   int64  \n",
      " 4   player_height      6895 non-null   float64\n",
      " 5   player_weight      6895 non-null   object \n",
      " 6   college            6895 non-null   object \n",
      " 7   country            6895 non-null   object \n",
      " 8   draft_year         6895 non-null   object \n",
      " 9   draft_round        6895 non-null   object \n",
      " 10  draft_number       6895 non-null   object \n",
      " 11  gp                 6895 non-null   float64\n",
      " 12  pts                6895 non-null   float64\n",
      " 13  reb                6895 non-null   float64\n",
      " 14  ast                6895 non-null   float64\n",
      " 15  net_rating         6895 non-null   float64\n",
      " 16  oreb_pct           6895 non-null   float64\n",
      " 17  dreb_pct           6895 non-null   float64\n",
      " 18  usg_pct            6895 non-null   float64\n",
      " 19  ts_pct             6895 non-null   float64\n",
      " 20  ast_pct            6895 non-null   float64\n",
      " 21  season             6895 non-null   object \n",
      " 22  Year               0 non-null      float64\n",
      "dtypes: float64(12), int64(2), object(9)\n",
      "memory usage: 1.3+ MB\n"
     ]
    }
   ],
   "source": [
    "bolaBasket.info()"
   ]
  },
  {
   "cell_type": "markdown",
   "id": "8270800e-e05d-4bdf-ba66-98a3a51b6537",
   "metadata": {},
   "source": [
    "## Sequential Model"
   ]
  },
  {
   "cell_type": "code",
   "execution_count": 27,
   "id": "8d22ec9a-87fc-450d-a715-4a06d54393ea",
   "metadata": {},
   "outputs": [],
   "source": [
    "from sklearn.datasets import load_breast_cancer"
   ]
  },
  {
   "cell_type": "code",
   "execution_count": 28,
   "id": "979cb353-e522-494e-a1f2-63d7a474166c",
   "metadata": {},
   "outputs": [],
   "source": [
    "X, y = load_breast_cancer(return_X_y = True, as_frame = True)"
   ]
  },
  {
   "cell_type": "code",
   "execution_count": 29,
   "id": "170bacd5-e3c6-4e75-9bf3-867cbf84f3ea",
   "metadata": {},
   "outputs": [],
   "source": [
    "from sklearn.model_selection import train_test_split"
   ]
  },
  {
   "cell_type": "code",
   "execution_count": 31,
   "id": "833c9f96-a4f9-4fbc-9fa4-4ba462e3436c",
   "metadata": {},
   "outputs": [],
   "source": [
    "X_train,X_test, y_train, y_test = train_test_split(X, y, test_size = 0.2, random_state = 42)"
   ]
  },
  {
   "cell_type": "code",
   "execution_count": 32,
   "id": "267c8936-e601-4022-b5e1-4a693880ce07",
   "metadata": {},
   "outputs": [
    {
     "data": {
      "text/plain": [
       "(455, 30)"
      ]
     },
     "execution_count": 32,
     "metadata": {},
     "output_type": "execute_result"
    }
   ],
   "source": [
    "X_train.shape"
   ]
  },
  {
   "cell_type": "code",
   "execution_count": 33,
   "id": "e11d2699-eb90-4be5-adff-6b65a695198d",
   "metadata": {},
   "outputs": [],
   "source": [
    "model = Sequential([\n",
    "    layers.Dense(8, activation = 'relu', input_shape= [30]),\n",
    "    layers.Dense(16, activation = 'relu'),\n",
    "    layers.Dense(32, activation = 'relu'),\n",
    "    layers.Dense(1, activation = 'sigmoid'),\n",
    "])\n",
    "model.compile(optimizer='Adam', loss = 'binary_crossentropy', metrics = ['accuracy'])"
   ]
  },
  {
   "cell_type": "code",
   "execution_count": 34,
   "id": "932b4518-3a0d-43d7-99df-afb5dc12aec5",
   "metadata": {},
   "outputs": [],
   "source": [
    "X_train = np.array(X_train)\n",
    "X_test = np.array(X_test)\n",
    "y_train = np.array(y_train)\n",
    "y_test = np.array(y_test)"
   ]
  },
  {
   "cell_type": "markdown",
   "id": "5f34b2b7-2a44-448a-a24c-ee6b12040873",
   "metadata": {},
   "source": [
    "## Callback"
   ]
  },
  {
   "cell_type": "code",
   "execution_count": 35,
   "id": "7df896ec-85f4-46c3-b398-4e35e86fca2f",
   "metadata": {},
   "outputs": [],
   "source": [
    "from tensorflow.keras.callbacks import EarlyStopping\n",
    "\n",
    "# Membuat callback untuk early stopping\n",
    "early_stop = EarlyStopping(monitor='val_loss', patience=10)"
   ]
  },
  {
   "cell_type": "code",
   "execution_count": 36,
   "id": "d6e348e6-42a0-49a0-a67c-92a6009c8dc4",
   "metadata": {},
   "outputs": [
    {
     "name": "stdout",
     "output_type": "stream",
     "text": [
      "Epoch 1/100\n",
      "12/12 [==============================] - 5s 77ms/step - loss: 12.6628 - accuracy: 0.3736 - val_loss: 5.8372 - val_accuracy: 0.3626\n",
      "Epoch 2/100\n",
      "12/12 [==============================] - 0s 23ms/step - loss: 2.4307 - accuracy: 0.5275 - val_loss: 2.4137 - val_accuracy: 0.6374\n",
      "Epoch 3/100\n",
      "12/12 [==============================] - 0s 18ms/step - loss: 1.0066 - accuracy: 0.5962 - val_loss: 0.9717 - val_accuracy: 0.3736\n",
      "Epoch 4/100\n",
      "12/12 [==============================] - 0s 31ms/step - loss: 0.6234 - accuracy: 0.6676 - val_loss: 0.6478 - val_accuracy: 0.7582\n",
      "Epoch 5/100\n",
      "12/12 [==============================] - 0s 28ms/step - loss: 0.4518 - accuracy: 0.8352 - val_loss: 0.4869 - val_accuracy: 0.8901\n",
      "Epoch 6/100\n",
      "12/12 [==============================] - 0s 18ms/step - loss: 0.3869 - accuracy: 0.8819 - val_loss: 0.4813 - val_accuracy: 0.8571\n",
      "Epoch 7/100\n",
      "12/12 [==============================] - 0s 23ms/step - loss: 0.3606 - accuracy: 0.9011 - val_loss: 0.5083 - val_accuracy: 0.8791\n",
      "Epoch 8/100\n",
      "12/12 [==============================] - 0s 19ms/step - loss: 0.3448 - accuracy: 0.9093 - val_loss: 0.4711 - val_accuracy: 0.8791\n",
      "Epoch 9/100\n",
      "12/12 [==============================] - 1s 47ms/step - loss: 0.3377 - accuracy: 0.8984 - val_loss: 0.4783 - val_accuracy: 0.8791\n",
      "Epoch 10/100\n",
      "12/12 [==============================] - 0s 43ms/step - loss: 0.3260 - accuracy: 0.9093 - val_loss: 0.4734 - val_accuracy: 0.8901\n",
      "Epoch 11/100\n",
      "12/12 [==============================] - 0s 39ms/step - loss: 0.3256 - accuracy: 0.9093 - val_loss: 0.5007 - val_accuracy: 0.8791\n",
      "Epoch 12/100\n",
      "12/12 [==============================] - 0s 29ms/step - loss: 0.3281 - accuracy: 0.9011 - val_loss: 0.4641 - val_accuracy: 0.8901\n",
      "Epoch 13/100\n",
      "12/12 [==============================] - 0s 40ms/step - loss: 0.3182 - accuracy: 0.9038 - val_loss: 0.4450 - val_accuracy: 0.8791\n",
      "Epoch 14/100\n",
      "12/12 [==============================] - 1s 59ms/step - loss: 0.3290 - accuracy: 0.8819 - val_loss: 0.4477 - val_accuracy: 0.8132\n",
      "Epoch 15/100\n",
      "12/12 [==============================] - 0s 29ms/step - loss: 0.3110 - accuracy: 0.9066 - val_loss: 0.4447 - val_accuracy: 0.8901\n",
      "Epoch 16/100\n",
      "12/12 [==============================] - 0s 17ms/step - loss: 0.3010 - accuracy: 0.9038 - val_loss: 0.5064 - val_accuracy: 0.8571\n",
      "Epoch 17/100\n",
      "12/12 [==============================] - 0s 44ms/step - loss: 0.2960 - accuracy: 0.8984 - val_loss: 0.4037 - val_accuracy: 0.8462\n",
      "Epoch 18/100\n",
      "12/12 [==============================] - 0s 42ms/step - loss: 0.2744 - accuracy: 0.9066 - val_loss: 0.4462 - val_accuracy: 0.8901\n",
      "Epoch 19/100\n",
      "12/12 [==============================] - 0s 32ms/step - loss: 0.2811 - accuracy: 0.9011 - val_loss: 0.3733 - val_accuracy: 0.8901\n",
      "Epoch 20/100\n",
      "12/12 [==============================] - 0s 14ms/step - loss: 0.2653 - accuracy: 0.9093 - val_loss: 0.3788 - val_accuracy: 0.8791\n",
      "Epoch 21/100\n",
      "12/12 [==============================] - 0s 24ms/step - loss: 0.2600 - accuracy: 0.9121 - val_loss: 0.3847 - val_accuracy: 0.8681\n",
      "Epoch 22/100\n",
      "12/12 [==============================] - 0s 26ms/step - loss: 0.2548 - accuracy: 0.9121 - val_loss: 0.4082 - val_accuracy: 0.8901\n",
      "Epoch 23/100\n",
      "12/12 [==============================] - 0s 26ms/step - loss: 0.2479 - accuracy: 0.9093 - val_loss: 0.3458 - val_accuracy: 0.8791\n",
      "Epoch 24/100\n",
      "12/12 [==============================] - 0s 26ms/step - loss: 0.2687 - accuracy: 0.9148 - val_loss: 0.4482 - val_accuracy: 0.8901\n",
      "Epoch 25/100\n",
      "12/12 [==============================] - 0s 32ms/step - loss: 0.2683 - accuracy: 0.9093 - val_loss: 0.4183 - val_accuracy: 0.8901\n",
      "Epoch 26/100\n",
      "12/12 [==============================] - 0s 29ms/step - loss: 0.2494 - accuracy: 0.9148 - val_loss: 0.3249 - val_accuracy: 0.8681\n",
      "Epoch 27/100\n",
      "12/12 [==============================] - 0s 30ms/step - loss: 0.2515 - accuracy: 0.9011 - val_loss: 0.4478 - val_accuracy: 0.8901\n",
      "Epoch 28/100\n",
      "12/12 [==============================] - 0s 30ms/step - loss: 0.2663 - accuracy: 0.8984 - val_loss: 0.4255 - val_accuracy: 0.8901\n",
      "Epoch 29/100\n",
      "12/12 [==============================] - 0s 17ms/step - loss: 0.2457 - accuracy: 0.9093 - val_loss: 0.3091 - val_accuracy: 0.8791\n",
      "Epoch 30/100\n",
      "12/12 [==============================] - 0s 20ms/step - loss: 0.2574 - accuracy: 0.9011 - val_loss: 0.3078 - val_accuracy: 0.8901\n",
      "Epoch 31/100\n",
      "12/12 [==============================] - 0s 26ms/step - loss: 0.2407 - accuracy: 0.9121 - val_loss: 0.3135 - val_accuracy: 0.8791\n",
      "Epoch 32/100\n",
      "12/12 [==============================] - 0s 21ms/step - loss: 0.2442 - accuracy: 0.9148 - val_loss: 0.3459 - val_accuracy: 0.8681\n",
      "Epoch 33/100\n",
      "12/12 [==============================] - 0s 17ms/step - loss: 0.2390 - accuracy: 0.9176 - val_loss: 0.3422 - val_accuracy: 0.8681\n",
      "Epoch 34/100\n",
      "12/12 [==============================] - 0s 15ms/step - loss: 0.2366 - accuracy: 0.9121 - val_loss: 0.2894 - val_accuracy: 0.8901\n",
      "Epoch 35/100\n",
      "12/12 [==============================] - 0s 15ms/step - loss: 0.2478 - accuracy: 0.9176 - val_loss: 0.2919 - val_accuracy: 0.8791\n",
      "Epoch 36/100\n",
      "12/12 [==============================] - 0s 15ms/step - loss: 0.2315 - accuracy: 0.9121 - val_loss: 0.3893 - val_accuracy: 0.8901\n",
      "Epoch 37/100\n",
      "12/12 [==============================] - 0s 15ms/step - loss: 0.2414 - accuracy: 0.9203 - val_loss: 0.3037 - val_accuracy: 0.8681\n",
      "Epoch 38/100\n",
      "12/12 [==============================] - 0s 13ms/step - loss: 0.2291 - accuracy: 0.9203 - val_loss: 0.3395 - val_accuracy: 0.8791\n",
      "Epoch 39/100\n",
      "12/12 [==============================] - 0s 15ms/step - loss: 0.2294 - accuracy: 0.9148 - val_loss: 0.2879 - val_accuracy: 0.8791\n",
      "Epoch 40/100\n",
      "12/12 [==============================] - 0s 14ms/step - loss: 0.2376 - accuracy: 0.9148 - val_loss: 0.2942 - val_accuracy: 0.8901\n",
      "Epoch 41/100\n",
      "12/12 [==============================] - 0s 15ms/step - loss: 0.2644 - accuracy: 0.9066 - val_loss: 0.2784 - val_accuracy: 0.9011\n",
      "Epoch 42/100\n",
      "12/12 [==============================] - 0s 14ms/step - loss: 0.2637 - accuracy: 0.8874 - val_loss: 0.4548 - val_accuracy: 0.8791\n",
      "Epoch 43/100\n",
      "12/12 [==============================] - 0s 14ms/step - loss: 0.2487 - accuracy: 0.9148 - val_loss: 0.2852 - val_accuracy: 0.8791\n",
      "Epoch 44/100\n",
      "12/12 [==============================] - 0s 15ms/step - loss: 0.2380 - accuracy: 0.9148 - val_loss: 0.2960 - val_accuracy: 0.8901\n",
      "Epoch 45/100\n",
      "12/12 [==============================] - 0s 13ms/step - loss: 0.2250 - accuracy: 0.9231 - val_loss: 0.2850 - val_accuracy: 0.8791\n",
      "Epoch 46/100\n",
      "12/12 [==============================] - 0s 14ms/step - loss: 0.2260 - accuracy: 0.9148 - val_loss: 0.2710 - val_accuracy: 0.9121\n",
      "Epoch 47/100\n",
      "12/12 [==============================] - 0s 15ms/step - loss: 0.2179 - accuracy: 0.9121 - val_loss: 0.4121 - val_accuracy: 0.8791\n",
      "Epoch 48/100\n",
      "12/12 [==============================] - 0s 13ms/step - loss: 0.2462 - accuracy: 0.9121 - val_loss: 0.2697 - val_accuracy: 0.8791\n",
      "Epoch 49/100\n",
      "12/12 [==============================] - 0s 15ms/step - loss: 0.2239 - accuracy: 0.9231 - val_loss: 0.2698 - val_accuracy: 0.8791\n",
      "Epoch 50/100\n",
      "12/12 [==============================] - 0s 43ms/step - loss: 0.2221 - accuracy: 0.9286 - val_loss: 0.2866 - val_accuracy: 0.8791\n",
      "Epoch 51/100\n",
      "12/12 [==============================] - 0s 27ms/step - loss: 0.2266 - accuracy: 0.9176 - val_loss: 0.2993 - val_accuracy: 0.8901\n",
      "Epoch 52/100\n",
      "12/12 [==============================] - 0s 21ms/step - loss: 0.2151 - accuracy: 0.9203 - val_loss: 0.2711 - val_accuracy: 0.9121\n",
      "Epoch 53/100\n",
      "12/12 [==============================] - 0s 16ms/step - loss: 0.2261 - accuracy: 0.9148 - val_loss: 0.2906 - val_accuracy: 0.8901\n",
      "Epoch 54/100\n",
      "12/12 [==============================] - 0s 30ms/step - loss: 0.2227 - accuracy: 0.9148 - val_loss: 0.2611 - val_accuracy: 0.9121\n",
      "Epoch 55/100\n",
      "12/12 [==============================] - 0s 20ms/step - loss: 0.2210 - accuracy: 0.9148 - val_loss: 0.2620 - val_accuracy: 0.9121\n",
      "Epoch 56/100\n",
      "12/12 [==============================] - 0s 16ms/step - loss: 0.2328 - accuracy: 0.9093 - val_loss: 0.2861 - val_accuracy: 0.8901\n",
      "Epoch 57/100\n",
      "12/12 [==============================] - 0s 13ms/step - loss: 0.2143 - accuracy: 0.9203 - val_loss: 0.2775 - val_accuracy: 0.9121\n",
      "Epoch 58/100\n",
      "12/12 [==============================] - 0s 18ms/step - loss: 0.2323 - accuracy: 0.9231 - val_loss: 0.2982 - val_accuracy: 0.8901\n",
      "Epoch 59/100\n",
      "12/12 [==============================] - 0s 19ms/step - loss: 0.2277 - accuracy: 0.9121 - val_loss: 0.3373 - val_accuracy: 0.8901\n",
      "Epoch 60/100\n",
      "12/12 [==============================] - 0s 13ms/step - loss: 0.2677 - accuracy: 0.8984 - val_loss: 0.2731 - val_accuracy: 0.8901\n",
      "Epoch 61/100\n",
      "12/12 [==============================] - 0s 15ms/step - loss: 0.2554 - accuracy: 0.8956 - val_loss: 0.3767 - val_accuracy: 0.8242\n",
      "Epoch 62/100\n",
      "12/12 [==============================] - 0s 15ms/step - loss: 0.2941 - accuracy: 0.8791 - val_loss: 0.2612 - val_accuracy: 0.8791\n",
      "Epoch 63/100\n",
      "12/12 [==============================] - 0s 14ms/step - loss: 0.2309 - accuracy: 0.9093 - val_loss: 0.3523 - val_accuracy: 0.8901\n",
      "Epoch 64/100\n",
      "12/12 [==============================] - 0s 14ms/step - loss: 0.2398 - accuracy: 0.9093 - val_loss: 0.2914 - val_accuracy: 0.8901\n",
      "Epoch 65/100\n",
      "12/12 [==============================] - 0s 13ms/step - loss: 0.2485 - accuracy: 0.9176 - val_loss: 0.3003 - val_accuracy: 0.8901\n",
      "Epoch 66/100\n",
      "12/12 [==============================] - 0s 15ms/step - loss: 0.2559 - accuracy: 0.9038 - val_loss: 0.2626 - val_accuracy: 0.8791\n",
      "Epoch 67/100\n",
      "12/12 [==============================] - 0s 14ms/step - loss: 0.2436 - accuracy: 0.9066 - val_loss: 0.2636 - val_accuracy: 0.8791\n",
      "Epoch 68/100\n",
      "12/12 [==============================] - 0s 14ms/step - loss: 0.2706 - accuracy: 0.8791 - val_loss: 0.3604 - val_accuracy: 0.8901\n",
      "Epoch 69/100\n",
      "12/12 [==============================] - 0s 13ms/step - loss: 0.2757 - accuracy: 0.9038 - val_loss: 0.4190 - val_accuracy: 0.8791\n",
      "Epoch 70/100\n",
      "12/12 [==============================] - 0s 13ms/step - loss: 0.3588 - accuracy: 0.8819 - val_loss: 0.3062 - val_accuracy: 0.8901\n",
      "Epoch 71/100\n",
      "12/12 [==============================] - 0s 14ms/step - loss: 0.2507 - accuracy: 0.9176 - val_loss: 0.2600 - val_accuracy: 0.9121\n",
      "Epoch 72/100\n",
      "12/12 [==============================] - 0s 14ms/step - loss: 0.2129 - accuracy: 0.9203 - val_loss: 0.2953 - val_accuracy: 0.8901\n",
      "Epoch 73/100\n",
      "12/12 [==============================] - 0s 16ms/step - loss: 0.2256 - accuracy: 0.9203 - val_loss: 0.3028 - val_accuracy: 0.8901\n",
      "Epoch 74/100\n",
      "12/12 [==============================] - 0s 15ms/step - loss: 0.2196 - accuracy: 0.9203 - val_loss: 0.2510 - val_accuracy: 0.8901\n",
      "Epoch 75/100\n",
      "12/12 [==============================] - 0s 15ms/step - loss: 0.2141 - accuracy: 0.9231 - val_loss: 0.3063 - val_accuracy: 0.8791\n",
      "Epoch 76/100\n",
      "12/12 [==============================] - 0s 23ms/step - loss: 0.2160 - accuracy: 0.9148 - val_loss: 0.2491 - val_accuracy: 0.8901\n",
      "Epoch 77/100\n",
      "12/12 [==============================] - 1s 46ms/step - loss: 0.2049 - accuracy: 0.9203 - val_loss: 0.2454 - val_accuracy: 0.9011\n",
      "Epoch 78/100\n",
      "12/12 [==============================] - 0s 29ms/step - loss: 0.2152 - accuracy: 0.9258 - val_loss: 0.2593 - val_accuracy: 0.8901\n",
      "Epoch 79/100\n",
      "12/12 [==============================] - 0s 29ms/step - loss: 0.2100 - accuracy: 0.9231 - val_loss: 0.2450 - val_accuracy: 0.9011\n",
      "Epoch 80/100\n",
      "12/12 [==============================] - 0s 17ms/step - loss: 0.2053 - accuracy: 0.9286 - val_loss: 0.3104 - val_accuracy: 0.8791\n",
      "Epoch 81/100\n",
      "12/12 [==============================] - 0s 16ms/step - loss: 0.2139 - accuracy: 0.9148 - val_loss: 0.2514 - val_accuracy: 0.8901\n",
      "Epoch 82/100\n",
      "12/12 [==============================] - 0s 15ms/step - loss: 0.2259 - accuracy: 0.9121 - val_loss: 0.2489 - val_accuracy: 0.8901\n",
      "Epoch 83/100\n",
      "12/12 [==============================] - 0s 17ms/step - loss: 0.2285 - accuracy: 0.9093 - val_loss: 0.2424 - val_accuracy: 0.9231\n",
      "Epoch 84/100\n",
      "12/12 [==============================] - 0s 24ms/step - loss: 0.2186 - accuracy: 0.9066 - val_loss: 0.2554 - val_accuracy: 0.9121\n",
      "Epoch 85/100\n",
      "12/12 [==============================] - 0s 24ms/step - loss: 0.2369 - accuracy: 0.9148 - val_loss: 0.2419 - val_accuracy: 0.9121\n",
      "Epoch 86/100\n",
      "12/12 [==============================] - 0s 17ms/step - loss: 0.2102 - accuracy: 0.9176 - val_loss: 0.2553 - val_accuracy: 0.9011\n",
      "Epoch 87/100\n",
      "12/12 [==============================] - 0s 15ms/step - loss: 0.2030 - accuracy: 0.9258 - val_loss: 0.2408 - val_accuracy: 0.9231\n",
      "Epoch 88/100\n",
      "12/12 [==============================] - 0s 15ms/step - loss: 0.2047 - accuracy: 0.9203 - val_loss: 0.2406 - val_accuracy: 0.9121\n",
      "Epoch 89/100\n",
      "12/12 [==============================] - 0s 17ms/step - loss: 0.2148 - accuracy: 0.9258 - val_loss: 0.2490 - val_accuracy: 0.8901\n",
      "Epoch 90/100\n",
      "12/12 [==============================] - 0s 26ms/step - loss: 0.1997 - accuracy: 0.9203 - val_loss: 0.2434 - val_accuracy: 0.9121\n",
      "Epoch 91/100\n",
      "12/12 [==============================] - 0s 19ms/step - loss: 0.2252 - accuracy: 0.9121 - val_loss: 0.4076 - val_accuracy: 0.8681\n",
      "Epoch 92/100\n",
      "12/12 [==============================] - 0s 15ms/step - loss: 0.2252 - accuracy: 0.9176 - val_loss: 0.2586 - val_accuracy: 0.9121\n",
      "Epoch 93/100\n",
      "12/12 [==============================] - 0s 14ms/step - loss: 0.2052 - accuracy: 0.9231 - val_loss: 0.2531 - val_accuracy: 0.9011\n",
      "Epoch 94/100\n",
      "12/12 [==============================] - 0s 14ms/step - loss: 0.1991 - accuracy: 0.9176 - val_loss: 0.2388 - val_accuracy: 0.9121\n",
      "Epoch 95/100\n",
      "12/12 [==============================] - 0s 13ms/step - loss: 0.2113 - accuracy: 0.9231 - val_loss: 0.2790 - val_accuracy: 0.8901\n",
      "Epoch 96/100\n",
      "12/12 [==============================] - 0s 16ms/step - loss: 0.2183 - accuracy: 0.9176 - val_loss: 0.2915 - val_accuracy: 0.8791\n",
      "Epoch 97/100\n",
      "12/12 [==============================] - 0s 17ms/step - loss: 0.2103 - accuracy: 0.9258 - val_loss: 0.2464 - val_accuracy: 0.9121\n",
      "Epoch 98/100\n",
      "12/12 [==============================] - 0s 20ms/step - loss: 0.2008 - accuracy: 0.9176 - val_loss: 0.2519 - val_accuracy: 0.9011\n",
      "Epoch 99/100\n",
      "12/12 [==============================] - 0s 23ms/step - loss: 0.1990 - accuracy: 0.9148 - val_loss: 0.2371 - val_accuracy: 0.9121\n",
      "Epoch 100/100\n",
      "12/12 [==============================] - 0s 15ms/step - loss: 0.2045 - accuracy: 0.9313 - val_loss: 0.2374 - val_accuracy: 0.9121\n"
     ]
    }
   ],
   "source": [
    "train = model.fit(X_train, y_train, epochs = 100, validation_split = 0.2)"
   ]
  },
  {
   "cell_type": "code",
   "execution_count": 37,
   "id": "1899b46f-68dd-47bc-9bb3-eebe0c9415d1",
   "metadata": {},
   "outputs": [
    {
     "name": "stdout",
     "output_type": "stream",
     "text": [
      "4/4 [==============================] - 0s 5ms/step\n"
     ]
    }
   ],
   "source": [
    "y_pred = model.predict(X_test)"
   ]
  },
  {
   "cell_type": "code",
   "execution_count": 38,
   "id": "8596615b-534d-4718-9f24-dd5e1649e705",
   "metadata": {},
   "outputs": [
    {
     "name": "stdout",
     "output_type": "stream",
     "text": [
      "4/4 [==============================] - 0s 8ms/step - loss: 0.1216 - accuracy: 0.9561\n"
     ]
    },
    {
     "data": {
      "text/plain": [
       "[0.12158732116222382, 0.9561403393745422]"
      ]
     },
     "execution_count": 38,
     "metadata": {},
     "output_type": "execute_result"
    }
   ],
   "source": [
    "model.evaluate(X_test, y_test)"
   ]
  },
  {
   "cell_type": "code",
   "execution_count": 39,
   "id": "702a9ced-6baf-48f0-ad04-5ceecd2c50ba",
   "metadata": {},
   "outputs": [],
   "source": [
    "from sklearn.metrics import accuracy_score"
   ]
  },
  {
   "cell_type": "code",
   "execution_count": 40,
   "id": "03681493-0a3c-4a65-975c-611d78e08514",
   "metadata": {},
   "outputs": [
    {
     "data": {
      "text/plain": [
       "array([[0],\n",
       "       [0],\n",
       "       [0],\n",
       "       [1],\n",
       "       [1],\n",
       "       [0],\n",
       "       [0],\n",
       "       [0],\n",
       "       [1],\n",
       "       [1],\n",
       "       [1],\n",
       "       [0],\n",
       "       [1],\n",
       "       [0],\n",
       "       [1],\n",
       "       [0],\n",
       "       [1],\n",
       "       [1],\n",
       "       [1],\n",
       "       [0],\n",
       "       [0],\n",
       "       [1],\n",
       "       [0],\n",
       "       [1],\n",
       "       [1],\n",
       "       [1],\n",
       "       [1],\n",
       "       [1],\n",
       "       [1],\n",
       "       [0],\n",
       "       [1],\n",
       "       [1],\n",
       "       [1],\n",
       "       [0],\n",
       "       [1],\n",
       "       [1],\n",
       "       [0],\n",
       "       [1],\n",
       "       [0],\n",
       "       [1],\n",
       "       [1],\n",
       "       [0],\n",
       "       [1],\n",
       "       [1],\n",
       "       [1],\n",
       "       [1],\n",
       "       [1],\n",
       "       [1],\n",
       "       [1],\n",
       "       [1],\n",
       "       [0],\n",
       "       [0],\n",
       "       [1],\n",
       "       [1],\n",
       "       [1],\n",
       "       [1],\n",
       "       [1],\n",
       "       [0],\n",
       "       [1],\n",
       "       [1],\n",
       "       [1],\n",
       "       [0],\n",
       "       [0],\n",
       "       [1],\n",
       "       [1],\n",
       "       [1],\n",
       "       [0],\n",
       "       [0],\n",
       "       [1],\n",
       "       [1],\n",
       "       [0],\n",
       "       [0],\n",
       "       [1],\n",
       "       [1],\n",
       "       [1],\n",
       "       [1],\n",
       "       [1],\n",
       "       [0],\n",
       "       [1],\n",
       "       [1],\n",
       "       [0],\n",
       "       [1],\n",
       "       [1],\n",
       "       [0],\n",
       "       [0],\n",
       "       [0],\n",
       "       [0],\n",
       "       [0],\n",
       "       [1],\n",
       "       [1],\n",
       "       [1],\n",
       "       [1],\n",
       "       [1],\n",
       "       [1],\n",
       "       [1],\n",
       "       [1],\n",
       "       [0],\n",
       "       [0],\n",
       "       [1],\n",
       "       [0],\n",
       "       [0],\n",
       "       [1],\n",
       "       [0],\n",
       "       [0],\n",
       "       [1],\n",
       "       [1],\n",
       "       [1],\n",
       "       [0],\n",
       "       [1],\n",
       "       [1],\n",
       "       [0],\n",
       "       [1],\n",
       "       [1],\n",
       "       [0]])"
      ]
     },
     "execution_count": 40,
     "metadata": {},
     "output_type": "execute_result"
    }
   ],
   "source": [
    "y_pred = np.where(y_pred >0.5, 1, 0)\n",
    "y_pred"
   ]
  },
  {
   "cell_type": "markdown",
   "id": "c2a64e48-7adc-4339-b4b4-7dde4f49f85b",
   "metadata": {},
   "source": [
    "## Akurasi"
   ]
  },
  {
   "cell_type": "code",
   "execution_count": 41,
   "id": "ba44dda1-54ac-4524-9870-8a31a276ef2d",
   "metadata": {},
   "outputs": [
    {
     "data": {
      "text/plain": [
       "0.956140350877193"
      ]
     },
     "execution_count": 41,
     "metadata": {},
     "output_type": "execute_result"
    }
   ],
   "source": [
    "\n",
    "\n",
    "accuracy_score(y_test, y_pred)\n",
    "\n"
   ]
  },
  {
   "cell_type": "markdown",
   "id": "f155162c-e5eb-4d80-aa7c-5dd54064ce57",
   "metadata": {},
   "source": [
    "## grafik yang menampilkan pergerakan metrik (akurasi/error) dan loss terhadap epoch baik pada training maupun validation"
   ]
  },
  {
   "cell_type": "code",
   "execution_count": 42,
   "id": "69141e8b-c277-42ff-b508-b5ee93e0c780",
   "metadata": {},
   "outputs": [
    {
     "data": {
      "image/png": "[encoded data removed]",
      "text/plain": [
       "<Figure size 1400x500 with 2 Axes>"
      ]
     },
     "metadata": {},
     "output_type": "display_data"
    }
   ],
   "source": [
    "import matplotlib.pyplot as plt\n",
    "\n",
    "plt.figure(figsize=(14, 5))\n",
    "plt.subplot(1, 2, 1)\n",
    "plt.plot(train.history['accuracy'], label='Train R2 Score')\n",
    "plt.plot(train.history['val_accuracy'], label='Validation R2 Score')\n",
    "plt.title('R2 Score vs. Epochs')\n",
    "plt.ylabel('R2 Score')\n",
    "plt.xlabel('Epoch')\n",
    "plt.legend()\n",
    "plt.grid(True)\n",
    "\n",
    "# Buat grafik Loss\n",
    "plt.subplot(1, 2, 2)\n",
    "plt.plot(train.history['loss'], label='Train Loss')\n",
    "plt.plot(train.history['val_loss'], label='Validation Loss')\n",
    "plt.title('Loss vs. Epochs')\n",
    "plt.ylabel('Loss')\n",
    "plt.xlabel('Epoch')\n",
    "plt.legend()\n",
    "plt.grid(True)\n",
    "\n",
    "plt.tight_layout()\n",
    "plt.show()"
   ]
  },
  {
   "cell_type": "code",
   "execution_count": null,
   "id": "7c653cfc-a341-4c25-8411-db99f1e52619",
   "metadata": {},
   "outputs": [],
   "source": []
  }
 ],
 "metadata": {
  "kernelspec": {
   "display_name": "Python 3 (ipykernel)",
   "language": "python",
   "name": "python3"
  },
  "language_info": {
   "codemirror_mode": {
    "name": "ipython",
    "version": 3
   },
   "file_extension": ".py",
   "mimetype": "text/x-python",
   "name": "python",
   "nbconvert_exporter": "python",
   "pygments_lexer": "ipython3",
   "version": "3.10.0"
  }
 },
 "nbformat": 4,
 "nbformat_minor": 5
}
